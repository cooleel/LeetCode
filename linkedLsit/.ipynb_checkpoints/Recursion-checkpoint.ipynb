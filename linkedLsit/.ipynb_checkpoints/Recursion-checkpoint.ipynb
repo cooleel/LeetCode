{
 "cells": [
  {
   "cell_type": "code",
   "execution_count": null,
   "metadata": {
    "collapsed": true
   },
   "outputs": [],
   "source": [
    "# factorial\n",
    "def fact(n):\n",
    "    #base case\n",
    "    if n==0:\n",
    "        return 1\n",
    "    else:\n",
    "        return n * fact(n-1)\n",
    "    "
   ]
  },
  {
   "cell_type": "code",
   "execution_count": 1,
   "metadata": {},
   "outputs": [],
   "source": [
    "#add\n",
    "def add(n):\n",
    "    \n",
    "    #base case\n",
    "    if n ==0:\n",
    "        return 0\n",
    "    else:\n",
    "        return n+add(n-1)"
   ]
  },
  {
   "cell_type": "code",
   "execution_count": 8,
   "metadata": {},
   "outputs": [],
   "source": [
    "#returns the sum of all the individual digits in that integer. For example if n=4321, return 4+3+2+1\n",
    "def sum_func(n):\n",
    "    #base case\n",
    "    if len(str(n)) ==1:\n",
    "        return n\n",
    "    \n",
    "    else:\n",
    "        return n%10 + sum_func(n//10)\n"
   ]
  },
  {
   "cell_type": "code",
   "execution_count": 11,
   "metadata": {},
   "outputs": [],
   "source": [
    "# split a sencetence\n",
    "# if the sencentence is completely splittable, it can be split from the beginning\n",
    "\n",
    "def word_split(phrase, list_of_words, output = None):\n",
    "    if output is None:\n",
    "        output = []\n",
    "        \n",
    "    for word in list_of_words:\n",
    "        if phrase.startswith(word):\n",
    "            output.append(word)\n",
    "            return word_split(phrase[len(word):], list_of_words, output)\n",
    "    return output"
   ]
  },
  {
   "cell_type": "markdown",
   "metadata": {},
   "source": [
    "### Interview questions"
   ]
  },
  {
   "cell_type": "code",
   "execution_count": 14,
   "metadata": {},
   "outputs": [],
   "source": [
    "def reverse(s):\n",
    "    #base case\n",
    "    \n",
    "    if len(s) <= 1:\n",
    "        return s\n",
    "    #recursion\n",
    "    else:\n",
    "        return s[-1]+ reverse(s[:-1])\n",
    "    #   return reverse(s[1:])+s[0]"
   ]
  },
  {
   "cell_type": "code",
   "execution_count": 15,
   "metadata": {},
   "outputs": [
    {
     "data": {
      "text/plain": [
       "'olleh'"
      ]
     },
     "execution_count": 15,
     "metadata": {},
     "output_type": "execute_result"
    }
   ],
   "source": [
    "reverse(\"hello\")"
   ]
  },
  {
   "cell_type": "code",
   "execution_count": null,
   "metadata": {},
   "outputs": [],
   "source": [
    "#string permutaion\n",
    "def permute(s):\n",
    "    out = []\n",
    "    #base case\n",
    "    if len(s) ==1:\n",
    "        out = [s]\n",
    "    else:\n",
    "        #for every letter in string\n",
    "        for i, let in enumerate(s):\n",
    "            for perm in permute (s[:i]+s[i+1:]):\n",
    "                out += [let, perm]\n",
    "    return out\n",
    "  "
   ]
  },
  {
   "cell_type": "code",
   "execution_count": null,
   "metadata": {},
   "outputs": [],
   "source": [
    "# Fibonnaci sequence\n",
    "#simply recursion\n"
   ]
  }
 ],
 "metadata": {
  "kernelspec": {
   "display_name": "Python 3",
   "language": "python",
   "name": "python3"
  },
  "language_info": {
   "codemirror_mode": {
    "name": "ipython",
    "version": 3
   },
   "file_extension": ".py",
   "mimetype": "text/x-python",
   "name": "python",
   "nbconvert_exporter": "python",
   "pygments_lexer": "ipython3",
   "version": "3.5.6"
  }
 },
 "nbformat": 4,
 "nbformat_minor": 2
}
